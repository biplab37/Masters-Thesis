{
  "nbformat": 4,
  "nbformat_minor": 0,
  "metadata": {
    "colab": {
      "name": "Untitled2.ipynb",
      "provenance": [],
      "collapsed_sections": [],
      "toc_visible": true,
      "authorship_tag": "ABX9TyMigdcsiyW/AlbHLeeVsWJ9",
      "include_colab_link": true
    },
    "kernelspec": {
      "name": "python3",
      "display_name": "Python 3"
    }
  },
  "cells": [
    {
      "cell_type": "markdown",
      "metadata": {
        "id": "view-in-github",
        "colab_type": "text"
      },
      "source": [
        "<a href=\"https://colab.research.google.com/github/biplab37/Masters-Thesis/blob/master/code/Untitled2.ipynb\" target=\"_parent\"><img src=\"https://colab.research.google.com/assets/colab-badge.svg\" alt=\"Open In Colab\"/></a>"
      ]
    },
    {
      "cell_type": "markdown",
      "metadata": {
        "id": "C3pbr_7E9Skk",
        "colab_type": "text"
      },
      "source": [
        "# numerical solution for the differential equation of velocity\n",
        "---"
      ]
    },
    {
      "cell_type": "code",
      "metadata": {
        "id": "PGCqdbDm9LrP",
        "colab_type": "code",
        "colab": {}
      },
      "source": [
        "import numpy as np\n",
        "import matplotlib.pyplot as plt"
      ],
      "execution_count": 0,
      "outputs": []
    },
    {
      "cell_type": "code",
      "metadata": {
        "id": "Ab8XAlfP9stJ",
        "colab_type": "code",
        "colab": {}
      },
      "source": [
        "def vel(phi,momentum,cutoff,epsilon):\n",
        "    cphi = np.cos(phi)\n",
        "    return cphi/(epsilon*momentum*np.sqrt(1 - 2*cphi*momentum/cutoff + (momentum/cutoff)**2))\n",
        "\n",
        "def dielectric(phi,momentum,cutoff,vel_1,vel_2):\n",
        "    cphi = np.cos(phi)\n",
        "    sphi = np.sin(phi)\n",
        "    return 2*pi*(momentum*sphi**2)/(((vel_1+vel_2)*cutoff + momentum*vel_2*cphi)*np.sqrt(-momentum**2*sphi**2 + 4*cutoff**2+ 4*momentum*cutoff*cphi))"
      ],
      "execution_count": 0,
      "outputs": []
    },
    {
      "cell_type": "code",
      "metadata": {
        "id": "nWcvfEvA-KrI",
        "colab_type": "code",
        "colab": {}
      },
      "source": [
        "n = 200\n",
        "m = 23\n",
        "num = 1000\n",
        "dcutoff = 1./n\n",
        "pi = 3.1415\n",
        "velocity = np.ones((n,m))\n",
        "eps = np.ones((n,m))\n",
        "\n",
        "for i in range(n-1):\n",
        "    cutoff = (n-i-1)/n\n",
        "    for j in range(m):\n",
        "        momentum = (j+1)/m\n",
        "        integral_vel = 0\n",
        "        integral_eps = 0\n",
        "        for k in range(num):\n",
        "            phi = k*pi/num\n",
        "            cphi = np.cos(phi)\n",
        "            k1 = n-1\n",
        "            if cutoff + momentum*cphi<1:\n",
        "                k1 = int((cutoff+momentum*cphi)*m)\n",
        "            if cphi>1-(2*cutoff/momentum):\n",
        "                integral_eps += dielectric(phi/2,momentum,cutoff,velocity[n-i-1][j],velocity[k1][j])\n",
        "            integral_vel += vel(phi,momentum,cutoff,eps[n-i-1][j])\n",
        "        velocity[n-i-2][j] = velocity[n-i-1][j] + dcutoff*integral_vel/num\n",
        "        eps[n-i-2][j] = eps[n-i-1][j] + dcutoff*integral_eps/num\n"
      ],
      "execution_count": 0,
      "outputs": []
    },
    {
      "cell_type": "code",
      "metadata": {
        "id": "ePPJs3lv-mW3",
        "colab_type": "code",
        "colab": {
          "base_uri": "https://localhost:8080/",
          "height": 282
        },
        "outputId": "672b3749-50ad-413e-904f-8d02fc25252a"
      },
      "source": [
        "plt.plot(range(m),eps[0,:])"
      ],
      "execution_count": 48,
      "outputs": [
        {
          "output_type": "execute_result",
          "data": {
            "text/plain": [
              "[<matplotlib.lines.Line2D at 0x7f333281c518>]"
            ]
          },
          "metadata": {
            "tags": []
          },
          "execution_count": 48
        },
        {
          "output_type": "display_data",
          "data": {
            "image/png": "[encoded data removed]",
            "text/plain": [
              "<Figure size 432x288 with 1 Axes>"
            ]
          },
          "metadata": {
            "tags": []
          }
        }
      ]
    },
    {
      "cell_type": "code",
      "metadata": {
        "id": "dbu4VAioCN-G",
        "colab_type": "code",
        "colab": {
          "base_uri": "https://localhost:8080/",
          "height": 282
        },
        "outputId": "7433b8a9-2217-481e-a5a2-861536187f63"
      },
      "source": [
        "plt.plot(range(m),velocity[0])"
      ],
      "execution_count": 49,
      "outputs": [
        {
          "output_type": "execute_result",
          "data": {
            "text/plain": [
              "[<matplotlib.lines.Line2D at 0x7f333277e128>]"
            ]
          },
          "metadata": {
            "tags": []
          },
          "execution_count": 49
        },
        {
          "output_type": "display_data",
          "data": {
            "image/png": "[encoded data removed]",
            "text/plain": [
              "<Figure size 432x288 with 1 Axes>"
            ]
          },
          "metadata": {
            "tags": []
          }
        }
      ]
    }
  ]
}