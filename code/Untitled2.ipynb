{
  "nbformat": 4,
  "nbformat_minor": 0,
  "metadata": {
    "colab": {
      "name": "Untitled2.ipynb",
      "provenance": [],
      "collapsed_sections": [],
      "toc_visible": true,
      "authorship_tag": "ABX9TyN1A4e9eXS7yAT3pY0AcFer",
      "include_colab_link": true
    },
    "kernelspec": {
      "name": "python3",
      "display_name": "Python 3"
    }
  },
  "cells": [
    {
      "cell_type": "markdown",
      "metadata": {
        "id": "view-in-github",
        "colab_type": "text"
      },
      "source": [
        "<a href=\"https://colab.research.google.com/github/biplab37/Masters-Thesis/blob/master/code/Untitled2.ipynb\" target=\"_parent\"><img src=\"https://colab.research.google.com/assets/colab-badge.svg\" alt=\"Open In Colab\"/></a>"
      ]
    },
    {
      "cell_type": "markdown",
      "metadata": {
        "id": "C3pbr_7E9Skk",
        "colab_type": "text"
      },
      "source": [
        "# Numerical solution for the differential equation\n",
        "---"
      ]
    },
    {
      "cell_type": "code",
      "metadata": {
        "id": "PGCqdbDm9LrP",
        "colab_type": "code",
        "colab": {}
      },
      "source": [
        "import numpy as np\n",
        "import matplotlib.pyplot as plt"
      ],
      "execution_count": 0,
      "outputs": []
    },
    {
      "cell_type": "markdown",
      "metadata": {
        "id": "mWAj3D0cUgil",
        "colab_type": "text"
      },
      "source": [
        "### Coupled Equations\n",
        "---"
      ]
    },
    {
      "cell_type": "markdown",
      "metadata": {
        "id": "GNNxerWPbD9P",
        "colab_type": "text"
      },
      "source": [
        "\n",
        "$$\\partial_{\\Lambda}v(k) = -\\frac{e^2}{2\\pi} \\frac{1}{k} \\int_{0}^{\\pi} d\\phi \\frac{ \\cos(\\phi)}{\\epsilon_{\\Lambda}(\\Lambda)\\sqrt{1-2(k/\\Lambda)\\cos(\\phi) + (k/\\Lambda)^2}}$$"
      ]
    },
    {
      "cell_type": "code",
      "metadata": {
        "id": "Ab8XAlfP9stJ",
        "colab_type": "code",
        "colab": {}
      },
      "source": [
        "def vel(phi,momentum,cutoff,epsilon):\n",
        "    '''\n",
        "    Returns the integrand of the velocity differential equation at given \n",
        "    value of momentum, cutoff phi and epsilon\n",
        "    '''\n",
        "    cphi = np.cos(phi)\n",
        "    return cphi/(epsilon*momentum*np.sqrt(1 - 2*cphi*momentum/cutoff + (momentum/cutoff)**2))\n",
        "\n",
        "def dielectric(phi,momentum,cutoff,vel_1,vel_2):\n",
        "    '''\n",
        "    Returns the integrand of the dielctric function differential equation\n",
        "    at given value of momentum, cutoff, phi and two velocities\n",
        "    '''\n",
        "    cphi = np.cos(phi)\n",
        "    sphi = np.sin(phi)\n",
        "    return 2*pi*(momentum*sphi**2)/(((vel_1+vel_2)*cutoff + momentum*vel_2*cphi)*np.sqrt(-momentum**2*sphi**2 + 4*cutoff**2+ 4*momentum*cutoff*cphi))"
      ],
      "execution_count": 0,
      "outputs": []
    },
    {
      "cell_type": "code",
      "metadata": {
        "id": "nWcvfEvA-KrI",
        "colab_type": "code",
        "colab": {}
      },
      "source": [
        "n = 200 ## Number of points for cutoff\n",
        "m = 23  ## Number of points for momentum\n",
        "num = 1000  ## Number of points taken for phi integration\n",
        "dcutoff = 1./n \n",
        "pi = 3.1415\n",
        "\n",
        "## velocity and dielectric function are initiallised to 1\n",
        "velocity = np.ones((n,m))\n",
        "eps = np.ones((n,m))\n",
        "\n",
        "for i in range(n-1):\n",
        "    ## loop over cutoff\n",
        "    cutoff = (n-i-1)/n  ## We start from the highest cutoff 1\n",
        "    for j in range(m):\n",
        "        ## loop over momentum\n",
        "        momentum = (j+1)/m\n",
        "\n",
        "        ## intialisation\n",
        "        integral_vel = 0\n",
        "        integral_eps = 0\n",
        "\n",
        "        for k in range(num):\n",
        "            ## phi integration\n",
        "            phi = k*pi/num\n",
        "            cphi = np.cos(phi)\n",
        "\n",
        "            ''' To get index for the second velocity if it is beyond the cutoff limit \n",
        "            value at highest cutoff i.e. 1 is used'''\n",
        "            k1 = n-1\n",
        "            if cutoff + momentum*cphi<1:\n",
        "                k1 = int((cutoff+momentum*cphi)*m)\n",
        "            \n",
        "            ## dielctric function phi integral\n",
        "            if cphi>1-(2*cutoff/momentum): ## theta function implementation\n",
        "                integral_eps += dielectric(phi/2,momentum,cutoff,velocity[n-i-1][j],velocity[k1][j])\n",
        "            \n",
        "            ## velocity phi integral\n",
        "            integral_vel += vel(phi,momentum,cutoff,eps[n-i-1][j])\n",
        "\n",
        "        ## Updating velocity and dielctric function\n",
        "        velocity[n-i-2][j] = velocity[n-i-1][j] + dcutoff*integral_vel/num\n",
        "        eps[n-i-2][j] = eps[n-i-1][j] + dcutoff*integral_eps/num"
      ],
      "execution_count": 0,
      "outputs": []
    },
    {
      "cell_type": "code",
      "metadata": {
        "id": "ePPJs3lv-mW3",
        "colab_type": "code",
        "colab": {
          "base_uri": "https://localhost:8080/",
          "height": 299
        },
        "outputId": "116f6b16-dfb0-467b-be52-af6ccdba572f"
      },
      "source": [
        "momentumaxis = np.linspace(0,1,num=m)\n",
        "plt.plot(momentumaxis,eps[0,:])\n",
        "plt.title('Dielectric Function')\n",
        "plt.xlabel(r'k/$\\Lambda_0$')\n",
        "plt.ylabel(r'$\\epsilon_{\\Lambda=0}$(k)')\n",
        "plt.show()"
      ],
      "execution_count": 59,
      "outputs": [
        {
          "output_type": "display_data",
          "data": {
            "image/png": "[encoded data removed]",
            "text/plain": [
              "<Figure size 432x288 with 1 Axes>"
            ]
          },
          "metadata": {
            "tags": []
          }
        }
      ]
    },
    {
      "cell_type": "code",
      "metadata": {
        "id": "dbu4VAioCN-G",
        "colab_type": "code",
        "colab": {
          "base_uri": "https://localhost:8080/",
          "height": 299
        },
        "outputId": "874d75c6-6b06-407f-816a-3fdc2546ebca"
      },
      "source": [
        "plt.plot(momentumaxis,velocity[0])\n",
        "plt.title('Renormalised Velocity')\n",
        "plt.xlabel(r'k/$\\Lambda_0$')\n",
        "plt.ylabel(r'$\\frac{v_{\\Lambda=0}(k)}{v_F}$')\n",
        "plt.show()"
      ],
      "execution_count": 62,
      "outputs": [
        {
          "output_type": "display_data",
          "data": {
            "image/png": "[encoded data removed]",
            "text/plain": [
              "<Figure size 432x288 with 1 Axes>"
            ]
          },
          "metadata": {
            "tags": []
          }
        }
      ]
    },
    {
      "cell_type": "code",
      "metadata": {
        "id": "cfCNMD5XZCWj",
        "colab_type": "code",
        "colab": {}
      },
      "source": [
        ""
      ],
      "execution_count": 0,
      "outputs": []
    }
  ]
}